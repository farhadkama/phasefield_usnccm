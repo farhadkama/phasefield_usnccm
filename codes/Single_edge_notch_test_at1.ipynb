{
  "cells": [
    {
      "cell_type": "markdown",
      "metadata": {
        "id": "RDS1tJLZhAeG"
      },
      "source": [
        "kamarei2@illinois.edu"
      ]
    },
    {
      "cell_type": "markdown",
      "metadata": {
        "id": "rXC02SbafzOQ"
      },
      "source": [
        "## Adding the Dolfinx library to the colab environment\n",
        "\n"
      ]
    },
    {
      "cell_type": "code",
      "execution_count": null,
      "metadata": {
        "id": "L21z8c_FfnLD"
      },
      "outputs": [],
      "source": [
        "!wget \"https://fem-on-colab.github.io/releases/fenicsx-install-development-real.sh\" -O \"/tmp/fenicsx-install.sh\" && bash \"/tmp/fenicsx-install.sh\""
      ]
    },
    {
      "cell_type": "markdown",
      "metadata": {
        "id": "ROw-MI18gIsv"
      },
      "source": [
        "## Importing the required libraries"
      ]
    },
    {
      "cell_type": "code",
      "execution_count": null,
      "metadata": {
        "id": "2KL2PygfgIXA"
      },
      "outputs": [],
      "source": [
        "from mpi4py import MPI\n",
        "from dolfinx import mesh, fem, io, plot, nls, log, geometry, la\n",
        "from dolfinx import cpp as _cpp\n",
        "from dolfinx import default_real_type\n",
        "import basix\n",
        "import dolfinx.fem.petsc\n",
        "import ufl\n",
        "import numpy as np\n",
        "from petsc4py.PETSc import ScalarType\n",
        "from petsc4py import PETSc\n",
        "import time\n",
        "import os"
      ]
    },
    {
      "cell_type": "markdown",
      "metadata": {
        "id": "0Pc-miQ5gZdB"
      },
      "source": [
        "## Setting material properties and geometry dimensions"
      ]
    },
    {
      "cell_type": "code",
      "execution_count": 3,
      "metadata": {
        "id": "f9qXoQSQgY4v"
      },
      "outputs": [],
      "source": [
        "# Material properties\n",
        "E, nu = ScalarType(335000), ScalarType(0.25)\t                                    #Young's modulus and Poisson's ratio\n",
        "mu, lmbda, kappa = E/(2*(1 + nu)), E*nu/((1 + nu)*(1 - 2*nu)), E/(3*(1 - 2*nu))\n",
        "Gc= ScalarType(0.0268)\t                                                          #Critical energy release rate\n",
        "\n",
        "\n",
        "\n",
        "sts, scs= ScalarType(210), ScalarType(2100)\t                                      #Tensile strength and compressive strength\n",
        "shs = (2/3)*sts*scs/(scs-sts)\n",
        "Wts = sts**2/(2*E)\n",
        "Whs = shs**2/(2*kappa)\n",
        "\n",
        "\n",
        "#Irwin characteristic length\n",
        "lch=3*Gc*E/8/(sts**2)\n",
        "\n",
        "\n",
        "#The regularization length\n",
        "eps=0.04\n",
        "\n",
        "h=eps/5\n",
        "\n",
        "\n",
        "\n",
        "comm = MPI.COMM_WORLD\n",
        "comm_rank = MPI.COMM_WORLD.rank\n",
        "log.set_log_level(log.LogLevel.ERROR)\n",
        "\n",
        "#Geometry of the single edge notch geometry\n",
        "ac = 0.1                                                                          #notch length\n",
        "W, L = 6.0, 20.0                                                                  #making use of symmetry"
      ]
    },
    {
      "cell_type": "markdown",
      "metadata": {
        "id": "MEE1ze31g22G"
      },
      "source": [
        "## Generating the mesh with element size $h=\\frac{ϵ}{5}$\n"
      ]
    },
    {
      "cell_type": "code",
      "execution_count": 5,
      "metadata": {
        "id": "xv6Btqixg03Q"
      },
      "outputs": [],
      "source": [
        "domain = mesh.create_rectangle(comm = comm,points=\n",
        "                             [np.array([0,0]), np.array([W,L])],n=[int(W/(32*h))\n",
        "                             ,int(L/(32*h))], cell_type=mesh.CellType.triangle\n",
        "                               , diagonal= mesh.DiagonalType.crossed)\n",
        "\n",
        "\n",
        "def cell_criterion(x):\n",
        "    \"\"\"Given mesh coordinates, return if each point\n",
        "    satisfies x[1]<lch*4\n",
        "\n",
        "    :param x: Input coordinates, shape (num_points, 3)\n",
        "    :returns: Boolean array of shape (num_points, )\n",
        "    \"\"\"\n",
        "    return (x[1]<lch*4)\n",
        "\n",
        "ir=0\n",
        "while ir<2:\n",
        "    domain.topology.create_connectivity(domain.topology.dim, domain.topology.dim)\n",
        "    cells_local = np.arange(domain.topology.index_map(\n",
        "        domain.topology.dim).size_local, dtype=np.int32)\n",
        "    midpoints = dolfinx.mesh.compute_midpoints(\n",
        "        domain, domain.topology.dim, cells_local).T\n",
        "    should_refine = np.flatnonzero(cell_criterion(midpoints)).astype(np.int32)\n",
        "    domain.topology.create_entities(1)\n",
        "    local_edges = dolfinx.mesh.compute_incident_entities(\n",
        "        domain.topology, should_refine, domain.topology.dim, 1)\n",
        "    domain = dolfinx.mesh.refine(domain, local_edges)[0]\n",
        "    ir+=1\n",
        "\n",
        "\n",
        "def cell_criterion2(x):\n",
        "    \"\"\"Given mesh coordinates, return if each point\n",
        "    satisfies (x[1]<2.5*eps) & (x[0]<ac+h*8*4) & (x[0]>ac-h*8*4)\n",
        "\n",
        "    :param x: Input coordinates, shape (num_points, 3)\n",
        "    :returns: Boolean array of shape (num_points, )\n",
        "    \"\"\"\n",
        "    return (x[1]<2.5*eps) & (x[0]<ac+h*8*4) & (x[0]>ac-h*8*4)\n",
        "\n",
        "ir=0\n",
        "while ir<3:\n",
        "    domain.topology.create_connectivity(domain.topology.dim, domain.topology.dim)\n",
        "    cells_local = np.arange(domain.topology.index_map(\n",
        "        domain.topology.dim).size_local, dtype=np.int32)\n",
        "    midpoints = dolfinx.mesh.compute_midpoints(\n",
        "        domain, domain.topology.dim, cells_local).T\n",
        "    should_refine = np.flatnonzero(cell_criterion2(midpoints)).astype(np.int32)\n",
        "    domain.topology.create_entities(1)\n",
        "    local_edges = dolfinx.mesh.compute_incident_entities(\n",
        "        domain.topology, should_refine, domain.topology.dim, 1)\n",
        "    domain = dolfinx.mesh.refine(domain, local_edges)[0]\n",
        "    ir+=1\n",
        "\n",
        "\n",
        "with dolfinx.io.XDMFFile(domain.comm, \"refined_mesh.xdmf\", \"w\") as xdmf:\n",
        "    xdmf.write_mesh(domain)\n",
        "with io.XDMFFile(domain.comm, \"paraview/2DSENT.xdmf\", \"w\") as file_results:\n",
        "    file_results.write_mesh(domain)"
      ]
    },
    {
      "cell_type": "markdown",
      "metadata": {
        "id": "PzLSTPrKhtl3"
      },
      "source": [
        "## Defining the function spaces"
      ]
    },
    {
      "cell_type": "code",
      "execution_count": 6,
      "metadata": {
        "id": "rh-PH8N3hnkP"
      },
      "outputs": [],
      "source": [
        "# Defining the function spaces\n",
        "V = fem.functionspace(domain, (\"CG\", 1, (domain.geometry.dim,)))                  #Function space for u\n",
        "Y = fem.functionspace(domain, (\"CG\", 1))                                          #Function space for z"
      ]
    },
    {
      "cell_type": "markdown",
      "metadata": {
        "id": "xZp4gZRKiM4w"
      },
      "source": [
        "## Setting the Dirichlet part of the boundary conditions"
      ]
    },
    {
      "cell_type": "code",
      "execution_count": 7,
      "metadata": {
        "id": "EyUci18jiOK_"
      },
      "outputs": [],
      "source": [
        "def left(x):\n",
        "    return np.isclose(x[0], 0)\n",
        "\n",
        "def front(x):\n",
        "    return np.isclose(x[0], W)\n",
        "\n",
        "def top(x):\n",
        "    return np.isclose(x[1], L)\n",
        "\n",
        "def bottom(x):\n",
        "    return (x[1]<1e-4) & (x[0]>ac - 1e-4)\n",
        "\n",
        "def cracktip(x):\n",
        "    return (x[1] < 1e-4) & (x[0] > ac - h*8*2) & (x[0] < ac+1e-4)\n",
        "\n",
        "def righttop(x):\n",
        "    return (np.abs(x[1]-0) < 1e-4) & (np.abs(x[0]-W) < 1e-4)\n",
        "\n",
        "def outer(x):\n",
        "    return (x[1] > L/10)\n",
        "\n",
        "fdim = domain.topology.dim -1\n",
        "left_facets = mesh.locate_entities_boundary(domain, fdim, left)\n",
        "front_facets = mesh.locate_entities_boundary(domain, fdim, front)\n",
        "top_facets = mesh.locate_entities_boundary(domain, fdim, top)\n",
        "bottom_facets = mesh.locate_entities(domain, fdim, bottom)\n",
        "cracktip_facets = mesh.locate_entities(domain, fdim, cracktip)\n",
        "righttop_facets = mesh.locate_entities(domain, 0, righttop)\n",
        "outer_facets = mesh.locate_entities(domain, fdim, outer)\n",
        "\n",
        "\n",
        "dofs_righttop = fem.locate_dofs_topological(V.sub(0), 0, righttop_facets)\n",
        "dofs_bottom = fem.locate_dofs_topological(V.sub(1), fdim, bottom_facets)\n",
        "\n",
        "dofs_outer = fem.locate_dofs_topological(Y, fdim, outer_facets)\n",
        "dofs_cracktip = fem.locate_dofs_topological(Y, fdim, cracktip_facets)\n",
        "\n",
        "bcl = fem.dirichletbc(ScalarType(0), dofs_righttop, V.sub(0))\n",
        "bct = fem.dirichletbc(ScalarType(0), dofs_bottom, V.sub(1))\n",
        "bcs = [bcl, bct]\n",
        "\n",
        "\n",
        "bct_z2 = fem.dirichletbc(ScalarType(0), dofs_cracktip, Y)\n",
        "bcs_z = [bct_z2]\n"
      ]
    },
    {
      "cell_type": "markdown",
      "metadata": {
        "id": "YocjsQnqi-ro"
      },
      "source": [
        "## Setting the Neumann part of the boundary condition\n"
      ]
    },
    {
      "cell_type": "code",
      "execution_count": 8,
      "metadata": {
        "id": "_w9hFjg-jG3O"
      },
      "outputs": [],
      "source": [
        "sigma_analytical = np.sqrt(E*Gc/np.pi/ac)/((0.752+2.02*(ac/W)+0.37*(1-np.sin(np.pi*ac/2/W))**3)*(np.sqrt(2*W/np.pi/ac*np.tan(np.pi*ac/2/W)))/(np.cos(np.pi*ac/2/W)))\n",
        "sigma_ext = 2*sigma_analytical\n",
        "class MyExpression:\n",
        "    def __init__(self):\n",
        "        self.t = 0.0\n",
        "        self.sigma = sigma_ext\n",
        "\n",
        "    def eval(self, x):\n",
        "        values = np.zeros((2, x.shape[1]))\n",
        "        values[1,:] = self.sigma*self.t\n",
        "\n",
        "        return values\n",
        "\n",
        "se = MyExpression()\n",
        "se.t = 0\n",
        "Tf = fem.Function(V)\n",
        "Tf.interpolate(se.eval)"
      ]
    },
    {
      "cell_type": "markdown",
      "metadata": {
        "id": "eqhqRVCJjbCY"
      },
      "source": [
        "## Marking the facets and defining trial and test functions"
      ]
    },
    {
      "cell_type": "code",
      "execution_count": 9,
      "metadata": {
        "id": "-2vVId6GjaKn"
      },
      "outputs": [],
      "source": [
        "marked_facets = np.hstack([top_facets, bottom_facets, left_facets])\n",
        "marked_values = np.hstack([np.full_like(top_facets, 1),\n",
        "                           np.full_like(bottom_facets, 2),\n",
        "                           np.full_like(left_facets, 3)])\n",
        "sorted_facets = np.argsort(marked_facets)\n",
        "facet_tag = mesh.meshtags(domain, domain.topology.dim -1,\n",
        "                          marked_facets[sorted_facets],\n",
        "                          marked_values[sorted_facets])\n",
        "\n",
        "metadata = {\"quadrature_degree\": 2}\n",
        "ds = ufl.Measure('ds', domain=domain,\n",
        "                 subdomain_data=facet_tag, metadata=metadata)\n",
        "dS = ufl.Measure(\"dS\", domain=domain, metadata=metadata)\n",
        "dx = ufl.Measure(\"dx\", domain=domain, metadata=metadata)\n",
        "\n",
        "# Define functions\n",
        "du = ufl.TrialFunction(V)                                                         # Incremental displacement\n",
        "v  = ufl.TestFunction(V)                                                          # Test function for u\n",
        "u  = fem.Function(V, name=\"displacement\")                                         # Displacement from previous iteration\n",
        "u_inc = fem.Function(V)\n",
        "dz = ufl.TrialFunction(Y)                                                         # Incremental phase field\n",
        "y  = ufl.TestFunction(Y)                                                          # Test function for z\n",
        "z  = fem.Function(Y, name=\"phasefield\")                                           # Phase field from previous iteration\n",
        "z_inc = fem.Function(Y)\n",
        "d = len(u)"
      ]
    },
    {
      "cell_type": "markdown",
      "metadata": {
        "id": "UXCd1iPBj7DG"
      },
      "source": [
        "## Setting the initial conditions"
      ]
    },
    {
      "cell_type": "code",
      "execution_count": 10,
      "metadata": {
        "id": "dOQsqUypj2en"
      },
      "outputs": [],
      "source": [
        "u.x.array[:] = 0.\n",
        "\n",
        "\n",
        "z.x.array[:] = 1.\n",
        "\n",
        "\n",
        "u_prev = fem.Function(V)\n",
        "u_prev.x.array[:] = u.x.array\n",
        "z_prev = fem.Function(Y)\n",
        "z_prev.x.array[:] = z.x.array\n",
        "\n",
        "\n",
        "y_dofs_top = fem.locate_dofs_topological(V.sub(1), fdim, top_facets)"
      ]
    },
    {
      "cell_type": "markdown",
      "metadata": {
        "id": "NM3iRkQ7kZbe"
      },
      "source": [
        "## Defining a function to evaluate any field in parallel for visualization purposes"
      ]
    },
    {
      "cell_type": "code",
      "execution_count": 11,
      "metadata": {
        "id": "KHqr3p8fkPAH"
      },
      "outputs": [],
      "source": [
        "def adjust_array_shape(input_array):\n",
        "    if input_array.shape == (2,):                                                 # Check if the shape is (2,)\n",
        "        adjusted_array = np.append(input_array, 0.0)                              # Append 0.0 to the array\n",
        "        return adjusted_array\n",
        "    else:\n",
        "        return input_array\n",
        "bb_tree = geometry.bb_tree(domain, domain.topology.dim)\n",
        "\n",
        "def evaluate_function(u, x):\n",
        "    \"\"\"[summary]\n",
        "        Helps evaluated a function at a point `x` in parallel\n",
        "    Args:\n",
        "        u ([dolfin.Function]): [function to be evaluated]\n",
        "        x ([Union(tuple, list, numpy.ndarray)]): [point at which to evaluate function `u`]\n",
        "\n",
        "    Returns:\n",
        "        [numpy.ndarray]: [function evaluated at point `x`]\n",
        "    \"\"\"\n",
        "\n",
        "\n",
        "    if isinstance(x, np.ndarray):\n",
        "        # If x is already a NumPy array\n",
        "        points0 = x\n",
        "    elif isinstance(x, (tuple, list)):\n",
        "        # If x is a tuple or list, convert it to a NumPy array\n",
        "        points0 = np.array(x)\n",
        "    else:\n",
        "        # Handle the case if x is of an unsupported type\n",
        "        points0 = None\n",
        "\n",
        "    points = adjust_array_shape(points0)\n",
        "\n",
        "    u_value = []\n",
        "\n",
        "    cells = []\n",
        "    # Find cells whose bounding-box collide with the the points\n",
        "    cell_candidates = geometry.compute_collisions_points(bb_tree, points)\n",
        "    # Choose one of the cells that contains the point\n",
        "    colliding_cells = geometry.compute_colliding_cells(domain, cell_candidates, points)\n",
        "\n",
        "    if len(colliding_cells.links(0)) > 0:\n",
        "        u_value = u.eval(points, colliding_cells.links(0)[0])\n",
        "        u_value = domain.comm.gather(u_value, root=0)\n",
        "    return u_value[0]"
      ]
    },
    {
      "cell_type": "markdown",
      "metadata": {
        "id": "7Qi2uI6uk5cB"
      },
      "source": [
        "## Defining stored energy, strain and stress functions"
      ]
    },
    {
      "cell_type": "code",
      "execution_count": 12,
      "metadata": {
        "id": "Q-A4h8ZvkmWI"
      },
      "outputs": [],
      "source": [
        "# Stored energy, strain and stress functions in linear isotropic elasticity (plane stress)\n",
        "\n",
        "def energy(v):\n",
        "\t  return mu*(ufl.inner(ufl.sym(ufl.grad(v)),ufl.sym(ufl.grad(v))) + ((nu/(1-nu))**2)*(ufl.tr(ufl.sym(ufl.grad(v))))**2 )+ 0.5*(lmbda)*(ufl.tr(ufl.sym(ufl.grad(v)))*(1-2*nu)/(1-nu))**2\n",
        "\n",
        "def epsilon(v):\n",
        "\treturn ufl.sym(ufl.grad(v))\n",
        "\n",
        "eta = 0.0\n",
        "# Stored energy density\n",
        "psi1 = (z**2+eta)*(energy(u))\n",
        "psi11 = energy(u)\n",
        "# Total potential energy\n",
        "Pi = psi1*dx - ufl.dot(Tf, u)*ds(1)\n",
        "# Compute first variation of Pi (directional derivative about u in the direction of v)\n",
        "R = ufl.derivative(Pi, u, v)\n",
        "# Compute Jacobian of R\n",
        "Jac = ufl.derivative(R, u, du)"
      ]
    },
    {
      "cell_type": "markdown",
      "metadata": {
        "id": "IVj3iNrLmprn"
      },
      "source": [
        "## Weak form of PDE for phase field"
      ]
    },
    {
      "cell_type": "code",
      "execution_count": 13,
      "metadata": {
        "id": "gsa2cqrHmJUP"
      },
      "outputs": [],
      "source": [
        "#Balance of configurational forces PDE\n",
        "pen=1000*(3*Gc/8/eps)\n",
        "Wv=pen/2*((abs(z)-z)**2 + (abs(1-z) - (1-z))**2 )*dx\n",
        "\n",
        "R_z = y*2*z*(psi11)*dx + 3*Gc/8*(-y/eps + 2*eps*ufl.inner(ufl.grad(z),ufl.grad(y)))*dx + ufl.derivative(Wv,z,y)\n",
        "\n",
        "# Compute Jacobian of R_z\n",
        "Jac_z = ufl.derivative(R_z, z, dz)"
      ]
    },
    {
      "cell_type": "markdown",
      "metadata": {
        "id": "8t9l9-Zdm0I2"
      },
      "source": [
        "## Defining a class for solving nonlinear PDEs"
      ]
    },
    {
      "cell_type": "code",
      "execution_count": 14,
      "metadata": {
        "id": "PNuE9GkPmtHZ"
      },
      "outputs": [],
      "source": [
        "class NonlinearPDEProblem:\n",
        "    \"\"\"Nonlinear problem class for PDEs.\"\"\"\n",
        "\n",
        "    def __init__(self, F, u, bc, J):\n",
        "        self.L = fem.form(F)\n",
        "        self.a = fem.form(J)\n",
        "        self.bc = bc\n",
        "\n",
        "    def form(self, x):\n",
        "        x.ghostUpdate(addv=PETSc.InsertMode.INSERT, mode=PETSc.ScatterMode.FORWARD)\n",
        "\n",
        "    def F(self, x, b):\n",
        "        \"\"\"Assemble residual vector.\"\"\"\n",
        "        with b.localForm() as b_local:\n",
        "            b_local.set(0.0)\n",
        "        fem.petsc.assemble_vector(b, self.L)\n",
        "        fem.petsc.apply_lifting(b, [self.a], bcs=[self.bc], x0=[x], alpha=-1.0)\n",
        "        b.ghostUpdate(addv=PETSc.InsertMode.ADD, mode=PETSc.ScatterMode.REVERSE)\n",
        "        fem.petsc.set_bc(b, self.bc, x, -1.0)\n",
        "\n",
        "    def J(self, x, A):\n",
        "        \"\"\"Assemble Jacobian matrix.\"\"\"\n",
        "        A.zeroEntries()\n",
        "        fem.petsc.assemble_matrix(A, self.a, bcs=self.bc)\n",
        "        A.assemble()\n",
        "\n",
        "    def matrix(self):\n",
        "        return fem.petsc.create_matrix(self.a)\n",
        "\n",
        "    def vector(self):\n",
        "        return fem.petsc.create_vector(self.L)"
      ]
    },
    {
      "cell_type": "markdown",
      "metadata": {
        "id": "Gy-5AmKhnSZq"
      },
      "source": [
        "## Setting the time step parameters"
      ]
    },
    {
      "cell_type": "code",
      "execution_count": 15,
      "metadata": {
        "id": "EHBvAdrDnM_Q"
      },
      "outputs": [],
      "source": [
        "# time-stepping parameters\n",
        "T=1\n",
        "Totalsteps=500\n",
        "startstepsize=1/Totalsteps\n",
        "stepsize=startstepsize\n",
        "t=stepsize\n",
        "step=1\n",
        "rnorm_stag0 = 1\n",
        "rnorm_stag = 1\n",
        "\n",
        "\n",
        "printsteps = 20"
      ]
    },
    {
      "cell_type": "markdown",
      "metadata": {
        "id": "v6RKojIknpEO"
      },
      "source": [
        "## Creating Newton solvers and their customizations"
      ]
    },
    {
      "cell_type": "code",
      "execution_count": 16,
      "metadata": {
        "id": "5dWfUN6-nXu_"
      },
      "outputs": [],
      "source": [
        "# Create nonlinear problem\n",
        "problem_u = NonlinearPDEProblem(R, u, bcs, Jac)\n",
        "\n",
        "# Create Newton solver and solve\n",
        "\n",
        "solver = _cpp.nls.petsc.NewtonSolver(MPI.COMM_WORLD)\n",
        "solver.setF(problem_u.F, problem_u.vector())\n",
        "solver.setJ(problem_u.J, problem_u.matrix())\n",
        "solver.set_form(problem_u.form)\n",
        "solver.max_it = 10\n",
        "solver.error_on_nonconvergence = False\n",
        "solver.atol = 1.0e-8\n",
        "solver.rtol = 1.0e-7\n",
        "\n",
        "ksp1 = solver.krylov_solver\n",
        "opts = PETSc.Options()\n",
        "option_prefix = ksp1.getOptionsPrefix()\n",
        "opts[f\"{option_prefix}ksp_type\"] = \"preonly\"\n",
        "opts[f\"{option_prefix}pc_type\"] = \"lu\"\n",
        "\n",
        "\n",
        "# Create nonlinear problem\n",
        "problem_z = NonlinearPDEProblem(R_z, z, bcs_z, Jac_z)\n",
        "\n",
        "# Create Newton solver and solve\n",
        "\n",
        "solver_z = _cpp.nls.petsc.NewtonSolver(MPI.COMM_WORLD)\n",
        "solver_z.setF(problem_z.F, problem_z.vector())\n",
        "solver_z.setJ(problem_z.J, problem_z.matrix())\n",
        "solver_z.set_form(problem_z.form)\n",
        "solver_z.max_it = 10\n",
        "solver_z.error_on_nonconvergence = False\n",
        "solver_z.atol = 1.0e-8\n",
        "solver_z.rtol = 1.0e-7\n",
        "\n",
        "\n",
        "ksp2 = solver_z.krylov_solver\n",
        "opts = PETSc.Options()\n",
        "option_prefix = ksp2.getOptionsPrefix()\n",
        "opts[f\"{option_prefix}ksp_type\"] = \"preonly\"\n",
        "opts[f\"{option_prefix}pc_type\"] = \"lu\""
      ]
    },
    {
      "cell_type": "markdown",
      "metadata": {
        "id": "_Od4FoiXrofo"
      },
      "source": [
        "## Solving the problem over several time steps via a staggered scheme"
      ]
    },
    {
      "cell_type": "code",
      "execution_count": null,
      "metadata": {
        "id": "Ze63CNJioHdH"
      },
      "outputs": [],
      "source": [
        "while t-stepsize < T:\n",
        "\n",
        "    if comm_rank==0:\n",
        "        print('Step= %d' %step, 't= %f' %t, 'Stepsize= %e' %stepsize)\n",
        "\n",
        "    se.t = t\n",
        "    Tf.interpolate(se.eval)\n",
        "    stag_iter = 1\n",
        "    rnorm_stag = 1\n",
        "    while stag_iter<100 and rnorm_stag/rnorm_stag0 > 1e-7:\n",
        "        start_time=time.time()\n",
        "        ##############################################################\n",
        "        # PDE for u\n",
        "        ##############################################################\n",
        "        solver.solve(u.x.petsc_vec)\n",
        "        u.x.scatter_forward()\n",
        "        ##############################################################\n",
        "        # PDE for z\n",
        "        ##############################################################\n",
        "        solver_z.solve(z.x.petsc_vec)\n",
        "        z.x.scatter_forward()\n",
        "        ##############################################################\n",
        "\n",
        "        zmin = domain.comm.allreduce(np.min(z.x.array), op=MPI.MIN)\n",
        "\n",
        "\n",
        "        if comm_rank==0:\n",
        "            print(zmin)\n",
        "\n",
        "        if comm_rank==0:\n",
        "            print(\"--- %s seconds ---\" % (time.time() - start_time))\n",
        "\n",
        "        ###############################################################\n",
        "        #Residual check for stag loop\n",
        "        ###############################################################\n",
        "        b_e = fem.petsc.assemble_vector(fem.form(-R))\n",
        "        fint=b_e.copy()\n",
        "        fem.petsc.set_bc(b_e, bcs)\n",
        "\n",
        "        rnorm_stag=b_e.norm()\n",
        "        stag_iter+=1\n",
        "\n",
        "\n",
        "    ########### Post-processing ##############\n",
        "\n",
        "    u_prev.x.array[:] = u.x.array\n",
        "    z_prev.x.array[:] = z.x.array\n",
        "\n",
        "    # Calculate Reaction\n",
        "\n",
        "    Fx=domain.comm.allreduce(np.sum(fint[y_dofs_top]), op=MPI.SUM)\n",
        "    z_x = evaluate_function(z, (ac+eps,0.0))\n",
        "\n",
        "\n",
        "\n",
        "    if comm_rank==0:\n",
        "        print(Fx)\n",
        "        print(z_x)\n",
        "        with open('Alumina_SENT.txt', 'a') as rfile:\n",
        "            rfile.write(\"%s %s %s %s\\n\" % (str(t), str(zmin), str(z_x), str(Fx)))\n",
        "\n",
        "\n",
        "    if step % printsteps==0:\n",
        "        file_results.write_function(u, t)\n",
        "        file_results.write_function(z, t)\n",
        "\n",
        "\n",
        "    if z_x<0.05 or np.isnan(zmin):\n",
        "        t1=t\n",
        "        break\n",
        "\n",
        "    # time stepping\n",
        "    step+=1\n",
        "    t+=stepsize\n",
        "\n",
        "sigma_critical=t1*sigma_ext\n",
        "if comm_rank==0:\n",
        "    with open('Critical_stress.txt', 'a') as rfile:\n",
        "        rfile.write(\"Critical stress= %s\\n\" % (str(sigma_critical)))\n",
        "    print('Critical stress= %f' %sigma_critical)\n"
      ]
    }
  ],
  "metadata": {
    "colab": {
      "provenance": []
    },
    "kernelspec": {
      "display_name": "Python 3",
      "name": "python3"
    },
    "language_info": {
      "name": "python"
    }
  },
  "nbformat": 4,
  "nbformat_minor": 0
}
